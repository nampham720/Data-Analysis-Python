{
 "cells": [
  {
   "cell_type": "markdown",
   "metadata": {},
   "source": [
    "# Perceptron"
   ]
  },
  {
   "cell_type": "code",
   "execution_count": 1,
   "metadata": {},
   "outputs": [],
   "source": [
    "import numpy as np\n",
    "import pandas as pd\n",
    "from sklearn.linear_model import Perceptron\n",
    "from sklearn.metrics import accuracy_score"
   ]
  },
  {
   "cell_type": "markdown",
   "metadata": {},
   "source": [
    "## Cleaning + Preparing Data"
   ]
  },
  {
   "cell_type": "code",
   "execution_count": 2,
   "metadata": {},
   "outputs": [],
   "source": [
    "filename = r'dir\\risk-train.txt'\n",
    "\n",
    "def replace(path):\n",
    "    return path.replace('\\\\', '/')\n",
    "\n",
    "df = pd.read_csv(replace(filename), sep = '\\t')"
   ]
  },
  {
   "cell_type": "code",
   "execution_count": 3,
   "metadata": {},
   "outputs": [],
   "source": [
    "def freq(column):\n",
    "    '''Count frequency of each column'''\n",
    "    count = {}\n",
    "    for row in column:\n",
    "        if row in count: count[row] += 1\n",
    "        else: count[row] = 1\n",
    "    return count"
   ]
  },
  {
   "cell_type": "code",
   "execution_count": 4,
   "metadata": {
    "scrolled": true
   },
   "outputs": [],
   "source": [
    "def trimming(df, threshold):\n",
    "    '''Only keep column that has <= number of unique values'''\n",
    "\n",
    "    if type(threshold) != int:\n",
    "        raise TypeError('Threshold must be an integer')\n",
    "    \n",
    "    _max = np.max([len(df[column].unique()) for column in df.columns])\n",
    "    if threshold > _max:\n",
    "        raise ValueError('Number of threshold has exceeded the true value: %d' %(_max))\n",
    "    \n",
    "    #extract all the column names\n",
    "    columns = [column for column in df.columns]\n",
    "    column_to_drop = []\n",
    "\n",
    "    #find out which one to be trimmed\n",
    "    for column in columns:\n",
    "        if len(df[column].unique()) > threshold:\n",
    "            column_to_drop.append(column)\n",
    "    #new_df\n",
    "    new_df = df.drop(column_to_drop, axis = 1)\n",
    "    return new_df"
   ]
  },
  {
   "cell_type": "code",
   "execution_count": 5,
   "metadata": {},
   "outputs": [],
   "source": [
    "def freq_of_each_column(df):\n",
    "    '''Count the frequency of value of each column'''\n",
    "    \n",
    "    columns = [column for column in df.columns]\n",
    "    len_row = len(df)\n",
    "    count = {}\n",
    "    \n",
    "    for column in columns:\n",
    "        # Nested dictionary for frequency\n",
    "        # {column: {pattern: count}, etc.}\n",
    "        count[column] = {} \n",
    "        \n",
    "        for row in range(len_row):\n",
    "            value = df[column][row]\n",
    "            if value in count[column]: count[column][value] += 1\n",
    "            else: count[column][value] = 1\n",
    "    \n",
    "    sorted_result = [sorted(value.items(), key = lambda x: x[1], reverse = True) for value in count.values()]\n",
    "    return sorted_result"
   ]
  },
  {
   "cell_type": "code",
   "execution_count": 6,
   "metadata": {},
   "outputs": [],
   "source": [
    "def substitute(df):\n",
    "    '''Unknown Value = Value that is closest to Mean of all counts of dataframe[column]'''\n",
    "    \n",
    "    for column in df.columns:\n",
    "        if '?' in set(df[column].unique()):\n",
    "            # Observe that if ? exists in a column, it will have the highest count\n",
    "            # ==> freq(column) = {?: count, a: count, b: count, etc.}\n",
    "            # ==> consider only from values starting from 'a': [count a, count b, etc.] \n",
    "            mean = np.array(list(freq(df[column]).values())).mean()\n",
    "            values = list(freq(df[column]).values())[1:]\n",
    "            distance = [(x - mean, x) for x in values]\n",
    "            track = sorted(distance, reverse = True)[0][1]\n",
    "            \n",
    "            for k, v in freq(df[column]).items():\n",
    "                if track == v:\n",
    "                    df[column].replace('?', k, inplace = True)\n",
    "    return df"
   ]
  },
  {
   "cell_type": "code",
   "execution_count": 7,
   "metadata": {},
   "outputs": [],
   "source": [
    "def convert(new_df):\n",
    "    \n",
    "    '''\n",
    "    If unique_value = {yes, no} ==> Yes = 1, No = 0\n",
    "    Else: unique_value = [a, b, c, d, etc.] ==> {a: 1, b: 2, etc.}\n",
    "    '''\n",
    "    \n",
    "    len_row = len(new_df)\n",
    "    \n",
    "    for column in new_df.columns:\n",
    "        if set(new_df[column].unique()) == {'yes', 'no'}:\n",
    "            for row in range(len_row):\n",
    "                if new_df[column][row] == 'yes': new_df[column][row] = float(1)\n",
    "                elif new_df[column][row] == 'no': new_df[column][row] = float(0)\n",
    "    \n",
    "        else:\n",
    "            items = list(new_df[column].unique())\n",
    "            orders = [i for i in range(1, len(items) + 1)]\n",
    "            values = dict(zip(items, orders))\n",
    "            \n",
    "            for row in range(len_row):\n",
    "                key = new_df[column][row]\n",
    "                new_df[column][row] = float(values.get(key))\n",
    "    \n",
    "    return new_df"
   ]
  },
  {
   "cell_type": "code",
   "execution_count": 8,
   "metadata": {},
   "outputs": [],
   "source": [
    "def checking_freq(dataframe):\n",
    "    '''Checking the frequency of all columns'''\n",
    "    return list(\n",
    "        zip(\n",
    "            [column for column in dataframe.columns], \n",
    "            dataframe.shape[1] * [\"-->\"], \n",
    "            freq_of_each_column(dataframe)))"
   ]
  },
  {
   "cell_type": "code",
   "execution_count": 9,
   "metadata": {},
   "outputs": [],
   "source": [
    "def unique_value(df):\n",
    "    '''Output a set of unique value of each column'''\n",
    "    for column in df.columns:\n",
    "        print('%s --> %s' % (column, str(set(df[column].unique()))))"
   ]
  },
  {
   "cell_type": "markdown",
   "metadata": {},
   "source": [
    "## Perform checking and cleaning data"
   ]
  },
  {
   "cell_type": "code",
   "execution_count": 10,
   "metadata": {},
   "outputs": [
    {
     "data": {
      "text/plain": [
       "(30000, 44)"
      ]
     },
     "execution_count": 10,
     "metadata": {},
     "output_type": "execute_result"
    }
   ],
   "source": [
    "df.shape"
   ]
  },
  {
   "cell_type": "code",
   "execution_count": 11,
   "metadata": {},
   "outputs": [
    {
     "data": {
      "text/html": [
       "<div>\n",
       "<style scoped>\n",
       "    .dataframe tbody tr th:only-of-type {\n",
       "        vertical-align: middle;\n",
       "    }\n",
       "\n",
       "    .dataframe tbody tr th {\n",
       "        vertical-align: top;\n",
       "    }\n",
       "\n",
       "    .dataframe thead th {\n",
       "        text-align: right;\n",
       "    }\n",
       "</style>\n",
       "<table border=\"1\" class=\"dataframe\">\n",
       "  <thead>\n",
       "    <tr style=\"text-align: right;\">\n",
       "      <th></th>\n",
       "      <th>ORDER_ID</th>\n",
       "      <th>CLASS</th>\n",
       "      <th>B_EMAIL</th>\n",
       "      <th>B_TELEFON</th>\n",
       "      <th>B_BIRTHDATE</th>\n",
       "      <th>FLAG_LRIDENTISCH</th>\n",
       "      <th>FLAG_NEWSLETTER</th>\n",
       "      <th>Z_METHODE</th>\n",
       "      <th>Z_CARD_ART</th>\n",
       "      <th>Z_CARD_VALID</th>\n",
       "      <th>...</th>\n",
       "      <th>FAIL_RPLZ</th>\n",
       "      <th>FAIL_RORT</th>\n",
       "      <th>FAIL_RPLZORTMATCH</th>\n",
       "      <th>SESSION_TIME</th>\n",
       "      <th>NEUKUNDE</th>\n",
       "      <th>AMOUNT_ORDER_PRE</th>\n",
       "      <th>VALUE_ORDER_PRE</th>\n",
       "      <th>DATE_LORDER</th>\n",
       "      <th>MAHN_AKT</th>\n",
       "      <th>MAHN_HOECHST</th>\n",
       "    </tr>\n",
       "  </thead>\n",
       "  <tbody>\n",
       "    <tr>\n",
       "      <th>0</th>\n",
       "      <td>49917</td>\n",
       "      <td>no</td>\n",
       "      <td>yes</td>\n",
       "      <td>no</td>\n",
       "      <td>1/17/1973</td>\n",
       "      <td>yes</td>\n",
       "      <td>yes</td>\n",
       "      <td>check</td>\n",
       "      <td>?</td>\n",
       "      <td>5.2006</td>\n",
       "      <td>...</td>\n",
       "      <td>no</td>\n",
       "      <td>no</td>\n",
       "      <td>no</td>\n",
       "      <td>8</td>\n",
       "      <td>yes</td>\n",
       "      <td>0</td>\n",
       "      <td>0.0</td>\n",
       "      <td>?</td>\n",
       "      <td>?</td>\n",
       "      <td>?</td>\n",
       "    </tr>\n",
       "    <tr>\n",
       "      <th>1</th>\n",
       "      <td>49919</td>\n",
       "      <td>no</td>\n",
       "      <td>yes</td>\n",
       "      <td>yes</td>\n",
       "      <td>12/8/1970</td>\n",
       "      <td>no</td>\n",
       "      <td>no</td>\n",
       "      <td>credit_card</td>\n",
       "      <td>Visa</td>\n",
       "      <td>12.2007</td>\n",
       "      <td>...</td>\n",
       "      <td>yes</td>\n",
       "      <td>no</td>\n",
       "      <td>no</td>\n",
       "      <td>13</td>\n",
       "      <td>yes</td>\n",
       "      <td>0</td>\n",
       "      <td>0.0</td>\n",
       "      <td>?</td>\n",
       "      <td>?</td>\n",
       "      <td>?</td>\n",
       "    </tr>\n",
       "  </tbody>\n",
       "</table>\n",
       "<p>2 rows × 44 columns</p>\n",
       "</div>"
      ],
      "text/plain": [
       "   ORDER_ID CLASS B_EMAIL B_TELEFON B_BIRTHDATE FLAG_LRIDENTISCH  \\\n",
       "0     49917    no     yes        no   1/17/1973              yes   \n",
       "1     49919    no     yes       yes   12/8/1970               no   \n",
       "\n",
       "  FLAG_NEWSLETTER    Z_METHODE Z_CARD_ART  Z_CARD_VALID     ...       \\\n",
       "0             yes        check          ?        5.2006     ...        \n",
       "1              no  credit_card       Visa       12.2007     ...        \n",
       "\n",
       "  FAIL_RPLZ  FAIL_RORT FAIL_RPLZORTMATCH SESSION_TIME  NEUKUNDE  \\\n",
       "0        no         no                no            8       yes   \n",
       "1       yes         no                no           13       yes   \n",
       "\n",
       "   AMOUNT_ORDER_PRE VALUE_ORDER_PRE DATE_LORDER MAHN_AKT MAHN_HOECHST  \n",
       "0                 0             0.0           ?        ?            ?  \n",
       "1                 0             0.0           ?        ?            ?  \n",
       "\n",
       "[2 rows x 44 columns]"
      ]
     },
     "execution_count": 11,
     "metadata": {},
     "output_type": "execute_result"
    }
   ],
   "source": [
    "df.head(2)"
   ]
  },
  {
   "cell_type": "code",
   "execution_count": 12,
   "metadata": {},
   "outputs": [
    {
     "data": {
      "text/plain": [
       "Index(['ORDER_ID', 'CLASS', 'B_EMAIL', 'B_TELEFON', 'B_BIRTHDATE',\n",
       "       'FLAG_LRIDENTISCH', 'FLAG_NEWSLETTER', 'Z_METHODE', 'Z_CARD_ART',\n",
       "       'Z_CARD_VALID', 'Z_LAST_NAME', 'VALUE_ORDER', 'WEEKDAY_ORDER',\n",
       "       'TIME_ORDER', 'AMOUNT_ORDER', 'ANUMMER_01', 'ANUMMER_02', 'ANUMMER_03',\n",
       "       'ANUMMER_04', 'ANUMMER_05', 'ANUMMER_06', 'ANUMMER_07', 'ANUMMER_08',\n",
       "       'ANUMMER_09', 'ANUMMER_10', 'CHK_LADR', 'CHK_RADR', 'CHK_KTO',\n",
       "       'CHK_CARD', 'CHK_COOKIE', 'CHK_IP', 'FAIL_LPLZ', 'FAIL_LORT',\n",
       "       'FAIL_LPLZORTMATCH', 'FAIL_RPLZ', 'FAIL_RORT', 'FAIL_RPLZORTMATCH',\n",
       "       'SESSION_TIME', 'NEUKUNDE', 'AMOUNT_ORDER_PRE', 'VALUE_ORDER_PRE',\n",
       "       'DATE_LORDER', 'MAHN_AKT', 'MAHN_HOECHST'],\n",
       "      dtype='object')"
      ]
     },
     "execution_count": 12,
     "metadata": {},
     "output_type": "execute_result"
    }
   ],
   "source": [
    "df.columns"
   ]
  },
  {
   "cell_type": "code",
   "execution_count": 13,
   "metadata": {},
   "outputs": [
    {
     "name": "stdout",
     "output_type": "stream",
     "text": [
      "Number of unique values of:\n",
      "\n",
      "{ORDER_ID} ---> {30000}\n",
      "{CLASS} ---> {2}\n",
      "{B_EMAIL} ---> {2}\n",
      "{B_TELEFON} ---> {2}\n",
      "{B_BIRTHDATE} ---> {11143}\n",
      "{FLAG_LRIDENTISCH} ---> {2}\n",
      "{FLAG_NEWSLETTER} ---> {2}\n",
      "{Z_METHODE} ---> {4}\n",
      "{Z_CARD_ART} ---> {5}\n",
      "{Z_CARD_VALID} ---> {36}\n",
      "{Z_LAST_NAME} ---> {3}\n",
      "{VALUE_ORDER} ---> {2341}\n",
      "{WEEKDAY_ORDER} ---> {7}\n",
      "{TIME_ORDER} ---> {1440}\n",
      "{AMOUNT_ORDER} ---> {9}\n",
      "{ANUMMER_01} ---> {560}\n",
      "{ANUMMER_02} ---> {561}\n",
      "{ANUMMER_03} ---> {561}\n",
      "{ANUMMER_04} ---> {499}\n",
      "{ANUMMER_05} ---> {348}\n",
      "{ANUMMER_06} ---> {179}\n",
      "{ANUMMER_07} ---> {90}\n",
      "{ANUMMER_08} ---> {34}\n",
      "{ANUMMER_09} ---> {8}\n",
      "{ANUMMER_10} ---> {1}\n",
      "{CHK_LADR} ---> {2}\n",
      "{CHK_RADR} ---> {2}\n",
      "{CHK_KTO} ---> {2}\n",
      "{CHK_CARD} ---> {2}\n",
      "{CHK_COOKIE} ---> {2}\n",
      "{CHK_IP} ---> {2}\n",
      "{FAIL_LPLZ} ---> {2}\n",
      "{FAIL_LORT} ---> {2}\n",
      "{FAIL_LPLZORTMATCH} ---> {2}\n",
      "{FAIL_RPLZ} ---> {2}\n",
      "{FAIL_RORT} ---> {2}\n",
      "{FAIL_RPLZORTMATCH} ---> {2}\n",
      "{SESSION_TIME} ---> {24}\n",
      "{NEUKUNDE} ---> {2}\n",
      "{AMOUNT_ORDER_PRE} ---> {7}\n",
      "{VALUE_ORDER_PRE} ---> {8232}\n",
      "{DATE_LORDER} ---> {1501}\n",
      "{MAHN_AKT} ---> {5}\n",
      "{MAHN_HOECHST} ---> {5}\n"
     ]
    }
   ],
   "source": [
    "print('Number of unique values of:\\n')\n",
    "for column in df.columns:\n",
    "    print('{%s} ---> {%d}' % (column, len(df[column].unique())))"
   ]
  },
  {
   "cell_type": "code",
   "execution_count": 14,
   "metadata": {},
   "outputs": [
    {
     "data": {
      "text/html": [
       "<div>\n",
       "<style scoped>\n",
       "    .dataframe tbody tr th:only-of-type {\n",
       "        vertical-align: middle;\n",
       "    }\n",
       "\n",
       "    .dataframe tbody tr th {\n",
       "        vertical-align: top;\n",
       "    }\n",
       "\n",
       "    .dataframe thead th {\n",
       "        text-align: right;\n",
       "    }\n",
       "</style>\n",
       "<table border=\"1\" class=\"dataframe\">\n",
       "  <thead>\n",
       "    <tr style=\"text-align: right;\">\n",
       "      <th></th>\n",
       "      <th>CLASS</th>\n",
       "      <th>B_EMAIL</th>\n",
       "      <th>B_TELEFON</th>\n",
       "      <th>FLAG_LRIDENTISCH</th>\n",
       "      <th>FLAG_NEWSLETTER</th>\n",
       "      <th>Z_METHODE</th>\n",
       "      <th>Z_CARD_ART</th>\n",
       "      <th>Z_LAST_NAME</th>\n",
       "      <th>ANUMMER_10</th>\n",
       "      <th>CHK_LADR</th>\n",
       "      <th>...</th>\n",
       "      <th>CHK_IP</th>\n",
       "      <th>FAIL_LPLZ</th>\n",
       "      <th>FAIL_LORT</th>\n",
       "      <th>FAIL_LPLZORTMATCH</th>\n",
       "      <th>FAIL_RPLZ</th>\n",
       "      <th>FAIL_RORT</th>\n",
       "      <th>FAIL_RPLZORTMATCH</th>\n",
       "      <th>NEUKUNDE</th>\n",
       "      <th>MAHN_AKT</th>\n",
       "      <th>MAHN_HOECHST</th>\n",
       "    </tr>\n",
       "  </thead>\n",
       "  <tbody>\n",
       "    <tr>\n",
       "      <th>0</th>\n",
       "      <td>no</td>\n",
       "      <td>yes</td>\n",
       "      <td>no</td>\n",
       "      <td>yes</td>\n",
       "      <td>yes</td>\n",
       "      <td>check</td>\n",
       "      <td>?</td>\n",
       "      <td>?</td>\n",
       "      <td>?</td>\n",
       "      <td>no</td>\n",
       "      <td>...</td>\n",
       "      <td>no</td>\n",
       "      <td>no</td>\n",
       "      <td>no</td>\n",
       "      <td>no</td>\n",
       "      <td>no</td>\n",
       "      <td>no</td>\n",
       "      <td>no</td>\n",
       "      <td>yes</td>\n",
       "      <td>?</td>\n",
       "      <td>?</td>\n",
       "    </tr>\n",
       "    <tr>\n",
       "      <th>1</th>\n",
       "      <td>no</td>\n",
       "      <td>yes</td>\n",
       "      <td>yes</td>\n",
       "      <td>no</td>\n",
       "      <td>no</td>\n",
       "      <td>credit_card</td>\n",
       "      <td>Visa</td>\n",
       "      <td>yes</td>\n",
       "      <td>?</td>\n",
       "      <td>no</td>\n",
       "      <td>...</td>\n",
       "      <td>no</td>\n",
       "      <td>no</td>\n",
       "      <td>no</td>\n",
       "      <td>no</td>\n",
       "      <td>yes</td>\n",
       "      <td>no</td>\n",
       "      <td>no</td>\n",
       "      <td>yes</td>\n",
       "      <td>?</td>\n",
       "      <td>?</td>\n",
       "    </tr>\n",
       "  </tbody>\n",
       "</table>\n",
       "<p>2 rows × 24 columns</p>\n",
       "</div>"
      ],
      "text/plain": [
       "  CLASS B_EMAIL B_TELEFON FLAG_LRIDENTISCH FLAG_NEWSLETTER    Z_METHODE  \\\n",
       "0    no     yes        no              yes             yes        check   \n",
       "1    no     yes       yes               no              no  credit_card   \n",
       "\n",
       "  Z_CARD_ART Z_LAST_NAME ANUMMER_10 CHK_LADR     ...      CHK_IP FAIL_LPLZ  \\\n",
       "0          ?           ?          ?       no     ...          no        no   \n",
       "1       Visa         yes          ?       no     ...          no        no   \n",
       "\n",
       "  FAIL_LORT FAIL_LPLZORTMATCH FAIL_RPLZ FAIL_RORT FAIL_RPLZORTMATCH NEUKUNDE  \\\n",
       "0        no                no        no        no                no      yes   \n",
       "1        no                no       yes        no                no      yes   \n",
       "\n",
       "  MAHN_AKT MAHN_HOECHST  \n",
       "0        ?            ?  \n",
       "1        ?            ?  \n",
       "\n",
       "[2 rows x 24 columns]"
      ]
     },
     "execution_count": 14,
     "metadata": {},
     "output_type": "execute_result"
    }
   ],
   "source": [
    "new_df = trimming(df, threshold = 6)\n",
    "new_df.head(2)"
   ]
  },
  {
   "cell_type": "code",
   "execution_count": 15,
   "metadata": {},
   "outputs": [
    {
     "name": "stdout",
     "output_type": "stream",
     "text": [
      "CLASS --> {'no', 'yes'}\n",
      "B_EMAIL --> {'no', 'yes'}\n",
      "B_TELEFON --> {'no', 'yes'}\n",
      "FLAG_LRIDENTISCH --> {'no', 'yes'}\n",
      "FLAG_NEWSLETTER --> {'no', 'yes'}\n",
      "Z_METHODE --> {'debit_card', 'debit_note', 'credit_card', 'check'}\n",
      "Z_CARD_ART --> {'Amex', 'debit_card', 'Visa', '?', 'Eurocard'}\n",
      "Z_LAST_NAME --> {'no', 'yes', '?'}\n",
      "ANUMMER_10 --> {'?'}\n",
      "CHK_LADR --> {'no', 'yes'}\n",
      "CHK_RADR --> {'no', 'yes'}\n",
      "CHK_KTO --> {'no', 'yes'}\n",
      "CHK_CARD --> {'no', 'yes'}\n",
      "CHK_COOKIE --> {'no', 'yes'}\n",
      "CHK_IP --> {'no', 'yes'}\n",
      "FAIL_LPLZ --> {'no', 'yes'}\n",
      "FAIL_LORT --> {'no', 'yes'}\n",
      "FAIL_LPLZORTMATCH --> {'no', 'yes'}\n",
      "FAIL_RPLZ --> {'no', 'yes'}\n",
      "FAIL_RORT --> {'no', 'yes'}\n",
      "FAIL_RPLZORTMATCH --> {'no', 'yes'}\n",
      "NEUKUNDE --> {'no', 'yes'}\n",
      "MAHN_AKT --> {'2', '0', '1', '3', '?'}\n",
      "MAHN_HOECHST --> {'2', '0', '1', '3', '?'}\n"
     ]
    }
   ],
   "source": [
    "unique_value(new_df)"
   ]
  },
  {
   "cell_type": "markdown",
   "metadata": {},
   "source": [
    "**Notice** Column *ANUMMER_10* contains only unknown value ==> Unncessary to keep. "
   ]
  },
  {
   "cell_type": "code",
   "execution_count": 16,
   "metadata": {},
   "outputs": [],
   "source": [
    "new_df = new_df.drop('ANUMMER_10', axis = 1)"
   ]
  },
  {
   "cell_type": "code",
   "execution_count": 17,
   "metadata": {},
   "outputs": [],
   "source": [
    "# Replace unknown values\n",
    "\n",
    "update_df = substitute(new_df)"
   ]
  },
  {
   "cell_type": "code",
   "execution_count": 18,
   "metadata": {},
   "outputs": [
    {
     "data": {
      "text/html": [
       "<div>\n",
       "<style scoped>\n",
       "    .dataframe tbody tr th:only-of-type {\n",
       "        vertical-align: middle;\n",
       "    }\n",
       "\n",
       "    .dataframe tbody tr th {\n",
       "        vertical-align: top;\n",
       "    }\n",
       "\n",
       "    .dataframe thead th {\n",
       "        text-align: right;\n",
       "    }\n",
       "</style>\n",
       "<table border=\"1\" class=\"dataframe\">\n",
       "  <thead>\n",
       "    <tr style=\"text-align: right;\">\n",
       "      <th></th>\n",
       "      <th>CLASS</th>\n",
       "      <th>B_EMAIL</th>\n",
       "      <th>B_TELEFON</th>\n",
       "      <th>FLAG_LRIDENTISCH</th>\n",
       "      <th>FLAG_NEWSLETTER</th>\n",
       "      <th>Z_METHODE</th>\n",
       "      <th>Z_CARD_ART</th>\n",
       "      <th>Z_LAST_NAME</th>\n",
       "      <th>CHK_LADR</th>\n",
       "      <th>CHK_RADR</th>\n",
       "      <th>...</th>\n",
       "      <th>CHK_IP</th>\n",
       "      <th>FAIL_LPLZ</th>\n",
       "      <th>FAIL_LORT</th>\n",
       "      <th>FAIL_LPLZORTMATCH</th>\n",
       "      <th>FAIL_RPLZ</th>\n",
       "      <th>FAIL_RORT</th>\n",
       "      <th>FAIL_RPLZORTMATCH</th>\n",
       "      <th>NEUKUNDE</th>\n",
       "      <th>MAHN_AKT</th>\n",
       "      <th>MAHN_HOECHST</th>\n",
       "    </tr>\n",
       "  </thead>\n",
       "  <tbody>\n",
       "    <tr>\n",
       "      <th>0</th>\n",
       "      <td>no</td>\n",
       "      <td>yes</td>\n",
       "      <td>no</td>\n",
       "      <td>yes</td>\n",
       "      <td>yes</td>\n",
       "      <td>check</td>\n",
       "      <td>Eurocard</td>\n",
       "      <td>yes</td>\n",
       "      <td>no</td>\n",
       "      <td>no</td>\n",
       "      <td>...</td>\n",
       "      <td>no</td>\n",
       "      <td>no</td>\n",
       "      <td>no</td>\n",
       "      <td>no</td>\n",
       "      <td>no</td>\n",
       "      <td>no</td>\n",
       "      <td>no</td>\n",
       "      <td>yes</td>\n",
       "      <td>0</td>\n",
       "      <td>0</td>\n",
       "    </tr>\n",
       "    <tr>\n",
       "      <th>1</th>\n",
       "      <td>no</td>\n",
       "      <td>yes</td>\n",
       "      <td>yes</td>\n",
       "      <td>no</td>\n",
       "      <td>no</td>\n",
       "      <td>credit_card</td>\n",
       "      <td>Visa</td>\n",
       "      <td>yes</td>\n",
       "      <td>no</td>\n",
       "      <td>no</td>\n",
       "      <td>...</td>\n",
       "      <td>no</td>\n",
       "      <td>no</td>\n",
       "      <td>no</td>\n",
       "      <td>no</td>\n",
       "      <td>yes</td>\n",
       "      <td>no</td>\n",
       "      <td>no</td>\n",
       "      <td>yes</td>\n",
       "      <td>0</td>\n",
       "      <td>0</td>\n",
       "    </tr>\n",
       "  </tbody>\n",
       "</table>\n",
       "<p>2 rows × 23 columns</p>\n",
       "</div>"
      ],
      "text/plain": [
       "  CLASS B_EMAIL B_TELEFON FLAG_LRIDENTISCH FLAG_NEWSLETTER    Z_METHODE  \\\n",
       "0    no     yes        no              yes             yes        check   \n",
       "1    no     yes       yes               no              no  credit_card   \n",
       "\n",
       "  Z_CARD_ART Z_LAST_NAME CHK_LADR CHK_RADR     ...      CHK_IP FAIL_LPLZ  \\\n",
       "0   Eurocard         yes       no       no     ...          no        no   \n",
       "1       Visa         yes       no       no     ...          no        no   \n",
       "\n",
       "  FAIL_LORT FAIL_LPLZORTMATCH FAIL_RPLZ FAIL_RORT FAIL_RPLZORTMATCH NEUKUNDE  \\\n",
       "0        no                no        no        no                no      yes   \n",
       "1        no                no       yes        no                no      yes   \n",
       "\n",
       "  MAHN_AKT MAHN_HOECHST  \n",
       "0        0            0  \n",
       "1        0            0  \n",
       "\n",
       "[2 rows x 23 columns]"
      ]
     },
     "execution_count": 18,
     "metadata": {},
     "output_type": "execute_result"
    }
   ],
   "source": [
    "update_df.head(2)"
   ]
  },
  {
   "cell_type": "markdown",
   "metadata": {},
   "source": [
    "**Notice** Z_CARD_ART[0]: ? - value has been replaced by \"Eurocard\""
   ]
  },
  {
   "cell_type": "code",
   "execution_count": 19,
   "metadata": {},
   "outputs": [
    {
     "data": {
      "text/plain": [
       "(30000, 23)"
      ]
     },
     "execution_count": 19,
     "metadata": {},
     "output_type": "execute_result"
    }
   ],
   "source": [
    "update_df.shape"
   ]
  },
  {
   "cell_type": "code",
   "execution_count": 20,
   "metadata": {},
   "outputs": [
    {
     "data": {
      "text/html": [
       "<div>\n",
       "<style scoped>\n",
       "    .dataframe tbody tr th:only-of-type {\n",
       "        vertical-align: middle;\n",
       "    }\n",
       "\n",
       "    .dataframe tbody tr th {\n",
       "        vertical-align: top;\n",
       "    }\n",
       "\n",
       "    .dataframe thead th {\n",
       "        text-align: right;\n",
       "    }\n",
       "</style>\n",
       "<table border=\"1\" class=\"dataframe\">\n",
       "  <thead>\n",
       "    <tr style=\"text-align: right;\">\n",
       "      <th></th>\n",
       "      <th>CLASS</th>\n",
       "      <th>B_EMAIL</th>\n",
       "      <th>B_TELEFON</th>\n",
       "      <th>FLAG_LRIDENTISCH</th>\n",
       "      <th>FLAG_NEWSLETTER</th>\n",
       "      <th>Z_METHODE</th>\n",
       "      <th>Z_CARD_ART</th>\n",
       "      <th>Z_LAST_NAME</th>\n",
       "      <th>CHK_LADR</th>\n",
       "      <th>CHK_RADR</th>\n",
       "      <th>...</th>\n",
       "      <th>CHK_IP</th>\n",
       "      <th>FAIL_LPLZ</th>\n",
       "      <th>FAIL_LORT</th>\n",
       "      <th>FAIL_LPLZORTMATCH</th>\n",
       "      <th>FAIL_RPLZ</th>\n",
       "      <th>FAIL_RORT</th>\n",
       "      <th>FAIL_RPLZORTMATCH</th>\n",
       "      <th>NEUKUNDE</th>\n",
       "      <th>MAHN_AKT</th>\n",
       "      <th>MAHN_HOECHST</th>\n",
       "    </tr>\n",
       "  </thead>\n",
       "  <tbody>\n",
       "    <tr>\n",
       "      <th>0</th>\n",
       "      <td>0</td>\n",
       "      <td>1</td>\n",
       "      <td>0</td>\n",
       "      <td>1</td>\n",
       "      <td>1</td>\n",
       "      <td>1</td>\n",
       "      <td>1</td>\n",
       "      <td>1</td>\n",
       "      <td>0</td>\n",
       "      <td>0</td>\n",
       "      <td>...</td>\n",
       "      <td>0</td>\n",
       "      <td>0</td>\n",
       "      <td>0</td>\n",
       "      <td>0</td>\n",
       "      <td>0</td>\n",
       "      <td>0</td>\n",
       "      <td>0</td>\n",
       "      <td>1</td>\n",
       "      <td>1</td>\n",
       "      <td>1</td>\n",
       "    </tr>\n",
       "    <tr>\n",
       "      <th>1</th>\n",
       "      <td>0</td>\n",
       "      <td>1</td>\n",
       "      <td>1</td>\n",
       "      <td>0</td>\n",
       "      <td>0</td>\n",
       "      <td>2</td>\n",
       "      <td>2</td>\n",
       "      <td>1</td>\n",
       "      <td>0</td>\n",
       "      <td>0</td>\n",
       "      <td>...</td>\n",
       "      <td>0</td>\n",
       "      <td>0</td>\n",
       "      <td>0</td>\n",
       "      <td>0</td>\n",
       "      <td>1</td>\n",
       "      <td>0</td>\n",
       "      <td>0</td>\n",
       "      <td>1</td>\n",
       "      <td>1</td>\n",
       "      <td>1</td>\n",
       "    </tr>\n",
       "  </tbody>\n",
       "</table>\n",
       "<p>2 rows × 23 columns</p>\n",
       "</div>"
      ],
      "text/plain": [
       "  CLASS B_EMAIL B_TELEFON FLAG_LRIDENTISCH FLAG_NEWSLETTER Z_METHODE  \\\n",
       "0     0       1         0                1               1         1   \n",
       "1     0       1         1                0               0         2   \n",
       "\n",
       "  Z_CARD_ART Z_LAST_NAME CHK_LADR CHK_RADR     ...      CHK_IP FAIL_LPLZ  \\\n",
       "0          1           1        0        0     ...           0         0   \n",
       "1          2           1        0        0     ...           0         0   \n",
       "\n",
       "  FAIL_LORT FAIL_LPLZORTMATCH FAIL_RPLZ FAIL_RORT FAIL_RPLZORTMATCH NEUKUNDE  \\\n",
       "0         0                 0         0         0                 0        1   \n",
       "1         0                 0         1         0                 0        1   \n",
       "\n",
       "  MAHN_AKT MAHN_HOECHST  \n",
       "0        1            1  \n",
       "1        1            1  \n",
       "\n",
       "[2 rows x 23 columns]"
      ]
     },
     "execution_count": 20,
     "metadata": {},
     "output_type": "execute_result"
    }
   ],
   "source": [
    "converted_df = convert(update_df)\n",
    "converted_df.head(2)"
   ]
  },
  {
   "cell_type": "code",
   "execution_count": 21,
   "metadata": {},
   "outputs": [
    {
     "name": "stdout",
     "output_type": "stream",
     "text": [
      "CLASS --> {0.0, 1.0}\n",
      "B_EMAIL --> {0.0, 1.0}\n",
      "B_TELEFON --> {0.0, 1.0}\n",
      "FLAG_LRIDENTISCH --> {0.0, 1.0}\n",
      "FLAG_NEWSLETTER --> {0.0, 1.0}\n",
      "Z_METHODE --> {1.0, 2.0, 3.0, 4.0}\n",
      "Z_CARD_ART --> {1.0, 2.0, 3.0, 4.0}\n",
      "Z_LAST_NAME --> {0.0, 1.0}\n",
      "CHK_LADR --> {0.0, 1.0}\n",
      "CHK_RADR --> {0.0, 1.0}\n",
      "CHK_KTO --> {0.0, 1.0}\n",
      "CHK_CARD --> {0.0, 1.0}\n",
      "CHK_COOKIE --> {0.0, 1.0}\n",
      "CHK_IP --> {0.0, 1.0}\n",
      "FAIL_LPLZ --> {0.0, 1.0}\n",
      "FAIL_LORT --> {0.0, 1.0}\n",
      "FAIL_LPLZORTMATCH --> {0.0, 1.0}\n",
      "FAIL_RPLZ --> {0.0, 1.0}\n",
      "FAIL_RORT --> {0.0, 1.0}\n",
      "FAIL_RPLZORTMATCH --> {0.0, 1.0}\n",
      "NEUKUNDE --> {0.0, 1.0}\n",
      "MAHN_AKT --> {1.0, 2.0, 3.0, 4.0}\n",
      "MAHN_HOECHST --> {1.0, 2.0, 3.0, 4.0}\n"
     ]
    }
   ],
   "source": [
    "# Check whether unknown value is replaced\n",
    "unique_value(converted_df)"
   ]
  },
  {
   "cell_type": "code",
   "execution_count": 22,
   "metadata": {},
   "outputs": [
    {
     "data": {
      "text/plain": [
       "[('CLASS', '-->', [(0.0, 28254), (1.0, 1746)]),\n",
       " ('B_EMAIL', '-->', [(1.0, 23963), (0.0, 6037)]),\n",
       " ('B_TELEFON', '-->', [(0.0, 25493), (1.0, 4507)]),\n",
       " ('FLAG_LRIDENTISCH', '-->', [(1.0, 21157), (0.0, 8843)]),\n",
       " ('FLAG_NEWSLETTER', '-->', [(0.0, 28772), (1.0, 1228)]),\n",
       " ('Z_METHODE', '-->', [(1.0, 14808), (2.0, 9796), (3.0, 3846), (4.0, 1550)]),\n",
       " ('Z_CARD_ART', '-->', [(1.0, 23750), (2.0, 3927), (3.0, 1550), (4.0, 773)]),\n",
       " ('Z_LAST_NAME', '-->', [(1.0, 29245), (0.0, 755)]),\n",
       " ('CHK_LADR', '-->', [(0.0, 28865), (1.0, 1135)]),\n",
       " ('CHK_RADR', '-->', [(0.0, 29889), (1.0, 111)]),\n",
       " ('CHK_KTO', '-->', [(0.0, 29912), (1.0, 88)]),\n",
       " ('CHK_CARD', '-->', [(0.0, 29893), (1.0, 107)]),\n",
       " ('CHK_COOKIE', '-->', [(0.0, 29905), (1.0, 95)]),\n",
       " ('CHK_IP', '-->', [(0.0, 29879), (1.0, 121)]),\n",
       " ('FAIL_LPLZ', '-->', [(0.0, 29835), (1.0, 165)]),\n",
       " ('FAIL_LORT', '-->', [(0.0, 29849), (1.0, 151)]),\n",
       " ('FAIL_LPLZORTMATCH', '-->', [(0.0, 29772), (1.0, 228)]),\n",
       " ('FAIL_RPLZ', '-->', [(0.0, 29674), (1.0, 326)]),\n",
       " ('FAIL_RORT', '-->', [(0.0, 29693), (1.0, 307)]),\n",
       " ('FAIL_RPLZORTMATCH', '-->', [(0.0, 29637), (1.0, 363)]),\n",
       " ('NEUKUNDE', '-->', [(1.0, 15032), (0.0, 14968)]),\n",
       " ('MAHN_AKT', '-->', [(1.0, 28559), (2.0, 1182), (3.0, 133), (4.0, 126)]),\n",
       " ('MAHN_HOECHST', '-->', [(1.0, 26056), (2.0, 2282), (3.0, 1253), (4.0, 409)])]"
      ]
     },
     "execution_count": 22,
     "metadata": {},
     "output_type": "execute_result"
    }
   ],
   "source": [
    "checking_freq(converted_df)"
   ]
  },
  {
   "cell_type": "code",
   "execution_count": 23,
   "metadata": {},
   "outputs": [
    {
     "data": {
      "text/plain": [
       "(30000, 23)"
      ]
     },
     "execution_count": 23,
     "metadata": {},
     "output_type": "execute_result"
    }
   ],
   "source": [
    "converted_df.shape"
   ]
  },
  {
   "cell_type": "markdown",
   "metadata": {},
   "source": [
    "## Machine Learning"
   ]
  },
  {
   "cell_type": "code",
   "execution_count": 24,
   "metadata": {},
   "outputs": [],
   "source": [
    "value_df = converted_df.values\n",
    "np.random.seed(10)\n",
    "np.random.shuffle(value_df)"
   ]
  },
  {
   "cell_type": "code",
   "execution_count": 25,
   "metadata": {},
   "outputs": [],
   "source": [
    "# Rule of thumb: train-test: 80-20 or 70-30\n",
    "\n",
    "train = value_df[0:int(0.8*len(value_df))]\n",
    "test = value_df[int(0.2*len(value_df)):int(len(value_df))]"
   ]
  },
  {
   "cell_type": "code",
   "execution_count": 26,
   "metadata": {},
   "outputs": [
    {
     "data": {
      "text/plain": [
       "array([0.0, 0.0, 0.0, ..., 0.0, 0.0, 0.0], dtype=object)"
      ]
     },
     "execution_count": 26,
     "metadata": {},
     "output_type": "execute_result"
    }
   ],
   "source": [
    "# test if having selected the correct column\n",
    "train[:, 0]"
   ]
  },
  {
   "cell_type": "code",
   "execution_count": 27,
   "metadata": {},
   "outputs": [],
   "source": [
    "# Test with y = Class, x = all the remained columns\n",
    "\n",
    "x_train = train[:, 1:(value_df.shape[1] - 1)]\n",
    "y_train = train[:, 0]\n",
    "\n",
    "x_test = test[:, 1:(value_df.shape[1] - 1)]\n",
    "y_test = test[:, 0]"
   ]
  },
  {
   "cell_type": "code",
   "execution_count": 28,
   "metadata": {},
   "outputs": [],
   "source": [
    "def perceptron_train(x, y, z, eta, t, changing_rate = False):\n",
    "    '''\n",
    "    Input Parameters:\n",
    "        x: data set of input features\n",
    "        y: actual outputs\n",
    "        z: activation function threshold\n",
    "        eta: learning rate\n",
    "        t: number of iterations\n",
    "    '''\n",
    "    \n",
    "    # initializing the weights\n",
    "    w = np.zeros(len(x[0]))      \n",
    "    n = 0\n",
    "\n",
    "    yhat_vec = np.ones(len(y))     # vector for predictions\n",
    "    \n",
    "    c1 = 1\n",
    "    c2 = 2\n",
    "    \n",
    "    while n < t: \n",
    "        for i in range(0, len(x)): \n",
    "            f = np.dot(x[i], w)    # dot product \n",
    "            \n",
    "            # prediction function \n",
    "            if f >= z:                               \n",
    "                yhat = 1.                               \n",
    "            else:                                   \n",
    "                yhat = 0.\n",
    "            yhat_vec[i] = yhat\n",
    "\n",
    "            # updating the weights\n",
    "            for j in range(0, len(w)):             \n",
    "                w[j] = w[j] + eta*(y[i]-yhat)*x[i][j]\n",
    "        \n",
    "        if changing_rate != False:\n",
    "          eta = c1/(n + c2)  \n",
    "        \n",
    "        n += 1\n",
    "    return w\n",
    "\n",
    "z = 0.0\n",
    "eta = 0.1\n",
    "t = 50"
   ]
  },
  {
   "cell_type": "code",
   "execution_count": 29,
   "metadata": {},
   "outputs": [],
   "source": [
    "w = perceptron_train(x_train, y_train, z, eta, t, changing_rate = False)\n",
    "\n",
    "def perceptron_test(x, w, z, eta, t):\n",
    "    y_pred = []\n",
    "    for i in range(0, len(x)):\n",
    "        f = np.dot(x[i], w)   #dot product\n",
    "        \n",
    "        # prediction function\n",
    "        if f > z:                               \n",
    "            yhat = 1                               \n",
    "        else:                                   \n",
    "            yhat = 0\n",
    "        y_pred.append(yhat)\n",
    "    return y_pred\n",
    "\n",
    "y_pred = perceptron_test(x_test, w, z, eta, t)"
   ]
  },
  {
   "cell_type": "code",
   "execution_count": 30,
   "metadata": {},
   "outputs": [
    {
     "name": "stdout",
     "output_type": "stream",
     "text": [
      "0.9415\n"
     ]
    }
   ],
   "source": [
    "# Check the accuracy of self-made Perceptron\n",
    "\n",
    "print(accuracy_score(list(y_test), y_pred))"
   ]
  },
  {
   "cell_type": "code",
   "execution_count": 31,
   "metadata": {},
   "outputs": [
    {
     "name": "stderr",
     "output_type": "stream",
     "text": [
      "D:\\Users\\USER\\Anaconda3\\lib\\site-packages\\sklearn\\linear_model\\stochastic_gradient.py:128: FutureWarning: max_iter and tol parameters have been added in <class 'sklearn.linear_model.perceptron.Perceptron'> in 0.19. If both are left unset, they default to max_iter=5 and tol=None. If tol is not None, max_iter defaults to max_iter=1000. From 0.21, default max_iter will be 1000, and default tol will be 1e-3.\n",
      "  \"and default tol will be 1e-3.\" % type(self), FutureWarning)\n"
     ]
    },
    {
     "data": {
      "text/plain": [
       "0.9417916666666667"
      ]
     },
     "execution_count": 31,
     "metadata": {},
     "output_type": "execute_result"
    }
   ],
   "source": [
    "# Check with the accuracy of API Perceptron\n",
    "\n",
    "clf = Perceptron(random_state=None, eta0=0.1, shuffle=False, fit_intercept=False)\n",
    "clf.fit(list(x_train), list(y_train))\n",
    "y_predict = clf.predict(list(x_test))\n",
    "clf.score(list(x_train), list(y_train))"
   ]
  },
  {
   "cell_type": "code",
   "execution_count": 32,
   "metadata": {},
   "outputs": [
    {
     "name": "stdout",
     "output_type": "stream",
     "text": [
      "0.9414583333333333\n"
     ]
    }
   ],
   "source": [
    "# Accuracy with changing rate\n",
    "\n",
    "w = perceptron_train(x_train, y_train, z, eta, t, changing_rate = True)\n",
    "y_pred = perceptron_test(x_test, w, z, eta, t)\n",
    "print(accuracy_score(list(y_test), y_pred))"
   ]
  }
 ],
 "metadata": {
  "kernelspec": {
   "display_name": "Python 3",
   "language": "python",
   "name": "python3"
  },
  "language_info": {
   "codemirror_mode": {
    "name": "ipython",
    "version": 3
   },
   "file_extension": ".py",
   "mimetype": "text/x-python",
   "name": "python",
   "nbconvert_exporter": "python",
   "pygments_lexer": "ipython3",
   "version": "3.6.5"
  }
 },
 "nbformat": 4,
 "nbformat_minor": 2
}
