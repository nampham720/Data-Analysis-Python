{
 "cells": [
  {
   "cell_type": "markdown",
   "metadata": {},
   "source": [
    "## Please follow this link: \n",
    "https://github.com/nampham720/Machine-Learning-practice/blob/master/NaiveBayes-Web-Classfify.ipynb for Classification using Machine Learning (Multinomial Naive Bayes, Support Vector Machine).\n",
    "\n",
    "https://github.com/nampham720/Machine-Learning-practice/blob/master/Tfidf-gensim.ipynb for Classification using extracted keywords (TF-IDF, Gensim)\n",
    "\n",
    "### Sorry for this inconvenience, the old file has already been deleted."
   ]
  }
 ],
 "metadata": {
  "kernelspec": {
   "display_name": "Python 3",
   "language": "python",
   "name": "python3"
  },
  "language_info": {
   "codemirror_mode": {
    "name": "ipython",
    "version": 3
   },
   "file_extension": ".py",
   "mimetype": "text/x-python",
   "name": "python",
   "nbconvert_exporter": "python",
   "pygments_lexer": "ipython3",
   "version": "3.6.5"
  }
 },
 "nbformat": 4,
 "nbformat_minor": 2
}
